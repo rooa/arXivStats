{
 "cells": [
  {
   "cell_type": "code",
   "execution_count": 2,
   "metadata": {
    "collapsed": false
   },
   "outputs": [],
   "source": [
    "%matplotlib inline\n",
    "\n",
    "import sys\n",
    "sys.path.append('/usr/local/lib/python2.7/site-packages') # For the sake of loading seaborn.\n",
    "import cPickle as pickle\n",
    "import matplotlib.pyplot as plt\n",
    "import seaborn as sns\n",
    "import xml.etree.ElementTree as ET\n",
    "import urllib\n",
    "import nltk\n",
    "from nltk.corpus import stopwords\n",
    "import numpy as np\n",
    "from tqdm import tqdm\n",
    "from tabulate import tabulate\n",
    "from itertools import chain\n",
    "from collections import OrderedDict\n",
    "\n",
    "base_url = 'http://export.arxiv.org/api/query?search_query='\n",
    "\n",
    "def get_text(category, num_docs=1500):\n",
    "    text = []\n",
    "    wc = 0\n",
    "    for n in range(0, num_docs, 100):\n",
    "        url = base_url + 'cat:' + category + '&start=' + str(n) + '&max_results=100'\n",
    "        data = urllib.urlopen(url).read()\n",
    "        parsed = ET.fromstring(data)\n",
    "        for i in parsed[7:]:\n",
    "            text.append(nltk.word_tokenize(i[4].text.lower()))\n",
    "            wc += len(text[-1])\n",
    "    print >> sys.stderr, \"Word count(\" + category + \"):\", wc\n",
    "    return wc, text"
   ]
  },
  {
   "cell_type": "code",
   "execution_count": 3,
   "metadata": {
    "collapsed": false
   },
   "outputs": [],
   "source": [
    "def avg_length(corpus):\n",
    "    lens = [len(i) for i in corpus]\n",
    "    return np.mean(lens), np.std(lens)\n",
    "\n",
    "\n",
    "def content_freqdist(corpus):\n",
    "    flatten = list(chain.from_iterable(corpus))\n",
    "    freq = nltk.FreqDist(flatten)\n",
    "    for k in freq.keys():\n",
    "        if k in stopwords.words('english') or k in ['.', ',', '(', ')', '{', '}', '[', ']', '-', '$']:\n",
    "            freq.pop(k)\n",
    "    return freq\n",
    "\n",
    "\n",
    "def vocab_size(corpus):\n",
    "    flatten = list(chain.from_iterable(corpus))\n",
    "    return len(set(flatten))"
   ]
  },
  {
   "cell_type": "code",
   "execution_count": 6,
   "metadata": {
    "collapsed": true
   },
   "outputs": [],
   "source": [
    "corpora = OrderedDict()\n",
    "categories = ['cs.CL', 'cs.LG', 'cs.IR', 'cs.IT', 'stat.ML', 'stat.TH', 'q-bio.GN', 'q-bio.SC', 'hep-th', 'hep-ex', 'math.CT', 'math.OC']"
   ]
  },
  {
   "cell_type": "code",
   "execution_count": 8,
   "metadata": {
    "collapsed": false
   },
   "outputs": [
    {
     "name": "stderr",
     "output_type": "stream",
     "text": [
      "Word count(cs.CL): 206096\n",
      "Word count(cs.LG): 253317\n",
      "Word count(cs.IR): 246258\n",
      "Word count(cs.IT): 238381\n",
      "Word count(stat.ML): 244768\n",
      "Word count(stat.TH): 212450\n",
      "Word count(q-bio.GN): 281493\n",
      "Word count(q-bio.SC): 180712\n",
      "Word count(hep-th): 159273\n",
      "Word count(hep-ex): 180815\n",
      "Word count(math.CT): 162156\n",
      "Word count(math.OC): 185905\n"
     ]
    }
   ],
   "source": [
    "for c in categories:\n",
    "    wc_c, corpus = get_text(c)\n",
    "    corpora[c] = ([wc_c, vocab_size(corpus), avg_length(corpus)], corpus)"
   ]
  },
  {
   "cell_type": "code",
   "execution_count": 7,
   "metadata": {
    "collapsed": false
   },
   "outputs": [],
   "source": [
    "# with open('corpora_lower.pkl', 'wb') as f:\n",
    "#     pickle.dump(corpora, f, pickle.HIGHEST_PROTOCOL)\n",
    "with open('corpora_lower.pkl', 'rb') as f:\n",
    "     corpora = pickle.load(f)"
   ]
  },
  {
   "cell_type": "code",
   "execution_count": 37,
   "metadata": {
    "collapsed": false
   },
   "outputs": [
    {
     "name": "stdout",
     "output_type": "stream",
     "text": [
      "Cagetory        WC    #vocab  Avg #tokens\n",
      "----------  ------  --------  ----------------------------------------\n",
      "cs.CL       206096     12020  (137.39733333333334, 55.185935341856407)\n",
      "cs.LG       253317     12014  (168.87799999999999, 63.124684416372865)\n",
      "cs.IR       246258     12294  (164.172, 62.022606760223589)\n",
      "cs.IT       238381     10058  (158.92066666666668, 69.960653510066322)\n",
      "stat.ML     244768     11430  (163.17866666666666, 59.779629291441935)\n",
      "stat.TH     212450     10491  (141.63333333333333, 73.714016456995623)\n",
      "q-bio.GN    281493     16405  (187.66200000000001, 71.514826593278315)\n",
      "q-bio.SC    180712     11499  (172.76481835564053, 63.20645210938298)\n",
      "hep-th      159273      8439  (106.182, 54.422625895240785)\n",
      "hep-ex      180815     10833  (120.54333333333334, 61.994850234156992)\n",
      "math.CT     162156      9190  (108.104, 69.315528688262447)\n",
      "math.OC     185905     10408  (123.93666666666667, 67.275002704488159)\n"
     ]
    }
   ],
   "source": [
    "print tabulate([[k] + v[0] for k, v in corpora.items()],\n",
    "               headers=[\"Cagetory\", \"WC\", \"#vocab\", \"Avg, Std #tokens\", \"Std #tokens\"])"
   ]
  },
  {
   "cell_type": "code",
   "execution_count": 8,
   "metadata": {
    "collapsed": false
   },
   "outputs": [],
   "source": [
    "freq = {}\n",
    "for c in categories:\n",
    "    freq[c] = content_freqdist(corpora[c][1])"
   ]
  },
  {
   "cell_type": "code",
   "execution_count": 30,
   "metadata": {
    "collapsed": false
   },
   "outputs": [
    {
     "name": "stdout",
     "output_type": "stream",
     "text": [
      "-----------  ----  ------------  ----\n",
      "theory       1226  >             1020\n",
      "field         789  data           901\n",
      "string        746  =              778\n",
      "quantum       694  <              766\n",
      "model         683  gev            725\n",
      "models        522  using          719\n",
      "theories      452  detector       702\n",
      "algebra       450  b              645\n",
      "gauge         433  production     638\n",
      "two           428  mass           631\n",
      "space         420  results        631\n",
      "also          397  decay          592\n",
      "gravity       382  events         591\n",
      "show          353  measured       553\n",
      "one           341  energy         540\n",
      "conformal     338  decays         492\n",
      "--            335  %              469\n",
      "solutions     328  cross          452\n",
      "2             323  measurements   429\n",
      "black         305  x              428\n",
      "action        297  measurement    385\n",
      "fields        297  presented      376\n",
      "shown         295  model          365\n",
      "topological   293  +-             343\n",
      "n             293  \\pm            334\n",
      "equations     288  limits         333\n",
      "group         285  experiment     332\n",
      "dimensional   278  quark          328\n",
      "states        276  observed       326\n",
      "case          270  w              316\n",
      "''            266  p              306\n",
      "1             262  new            305\n",
      "dimensions    251  +/-            298\n",
      "new           248  search         297\n",
      "symmetry      247  branching      284\n",
      "structure     247  q^2            284\n",
      "algebras      247  collisions     280\n",
      "general       242  --             280\n",
      "functions     233  collected      278\n",
      "study         228  section        277\n",
      "terms         228  qcd            271\n",
      "classical     227  first          266\n",
      "operators     221  present        264\n",
      "limit         214  standard       254\n",
      "discuss       210  found          247\n",
      "using         208  jet            247\n",
      "matrix        201  range          246\n",
      "``            200  neutrino       243\n",
      "equation      198  also           242\n",
      "given         197  function       242\n",
      "-----------  ----  ------------  ----\n"
     ]
    }
   ],
   "source": [
    "print tabulate(np.hstack((np.array(freq_hep_th.most_common(50)), np.array(freq_hep_ex.most_common(50)))))"
   ]
  },
  {
   "cell_type": "code",
   "execution_count": 30,
   "metadata": {
    "collapsed": true
   },
   "outputs": [],
   "source": [
    "def pos_dist(k):\n",
    "    pos_dist = nltk.FreqDist([i[1] for i in nltk.pos_tag(k)])\n",
    "    print >> sys.stderr, pos_dist.most_common(10)"
   ]
  },
  {
   "cell_type": "code",
   "execution_count": 31,
   "metadata": {
    "collapsed": false
   },
   "outputs": [
    {
     "name": "stderr",
     "output_type": "stream",
     "text": [
      "[('NN', 69), ('JJ', 46), ('NNS', 29), ('VBN', 10), ('CD', 10), ('VBP', 9), ('VBD', 7), ('NNP', 5), ('VBG', 4), ('RB', 4)]\n",
      "[('NN', 62), ('JJ', 55), ('NNS', 25), ('VBN', 10), ('VBP', 10), ('CD', 8), ('VBD', 7), ('RB', 6), ('VBG', 5), (':', 3)]\n"
     ]
    },
    {
     "data": {
      "text/plain": [
       "<matplotlib.legend.Legend at 0x11df59050>"
      ]
     },
     "execution_count": 31,
     "metadata": {},
     "output_type": "execute_result"
    },
    {
     "data": {
      "image/png": "[encoded data removed]",
      "text/plain": [
       "<matplotlib.figure.Figure at 0x11f169cd0>"
      ]
     },
     "metadata": {},
     "output_type": "display_data"
    }
   ],
   "source": [
    "hep_ex_common = freq['hep-ex'].most_common(200)\n",
    "hep_th_common = freq['hep-th'].most_common(200)\n",
    "k = [i[0] for i in hep_ex_common]\n",
    "kth = [i[0] for i in hep_th_common]\n",
    "pos_dist(k)\n",
    "pos_dist(kth)\n",
    "vex = [i[1] for i in hep_ex_common]\n",
    "vth = [i[1] for i in hep_th_common]\n",
    "\n",
    "plt.plot(np.arange(0, len(k)), vex, color='blue', label='hep-ex')\n",
    "plt.plot(np.arange(0, len(k)), vth, color='red', label='hep-th')\n",
    "plt.legend(loc='upper right')\n",
    "\n",
    "# plt.savefig('hep.png')"
   ]
  },
  {
   "cell_type": "code",
   "execution_count": 32,
   "metadata": {
    "collapsed": false
   },
   "outputs": [
    {
     "name": "stderr",
     "output_type": "stream",
     "text": [
      "[('NN', 73), ('JJ', 49), ('NNS', 25), ('VBN', 11), ('VBG', 8), ('VBP', 7), ('VB', 6), ('RB', 6), ('VBZ', 3), ('CD', 2)]\n",
      "[('NN', 65), ('JJ', 51), ('NNS', 28), ('VBN', 13), ('RB', 7), ('VBP', 6), ('VBG', 5), ('VBD', 5), ('CD', 4), ('VB', 4)]\n"
     ]
    },
    {
     "data": {
      "text/plain": [
       "<matplotlib.legend.Legend at 0x11fc4bc50>"
      ]
     },
     "execution_count": 32,
     "metadata": {},
     "output_type": "execute_result"
    },
    {
     "data": {
      "image/png": "[encoded data removed]",
      "text/plain": [
       "<matplotlib.figure.Figure at 0x11c8f8110>"
      ]
     },
     "metadata": {},
     "output_type": "display_data"
    }
   ],
   "source": [
    "stat_ml_common = freq['stat.ML'].most_common(200)\n",
    "stat_th_common = freq['stat.TH'].most_common(200)\n",
    "stk = [i[0] for i in stat_ml_common]\n",
    "stkth = [i[0] for i in stat_th_common]\n",
    "pos_dist(stk)\n",
    "pos_dist(stkth)\n",
    "stex = [i[1] for i in stat_ml_common]\n",
    "stth = [i[1] for i in stat_th_common]\n",
    "\n",
    "plt.plot(np.arange(0, len(stk)), stex, color='blue', label='stat.ML')\n",
    "plt.plot(np.arange(0, len(stk)), stth, color='red', label='stat.TH')\n",
    "plt.legend(loc='upper right')\n",
    "\n",
    "# plt.savefig('stat.png')"
   ]
  },
  {
   "cell_type": "code",
   "execution_count": 34,
   "metadata": {
    "collapsed": false
   },
   "outputs": [
    {
     "name": "stderr",
     "output_type": "stream",
     "text": [
      "[('NN', 70), ('JJ', 56), ('NNS', 24), ('VBN', 11), ('VBP', 9), ('VBD', 7), ('VB', 4), ('CD', 3), ('RB', 3), ('VBZ', 3)]\n",
      "[('NN', 62), ('JJ', 43), ('NNS', 32), ('VBN', 12), ('VBP', 11), ('VBD', 10), ('RB', 6), ('CD', 4), ('VBG', 3), ('VBZ', 3)]\n"
     ]
    },
    {
     "data": {
      "image/png": "[encoded data removed]",
      "text/plain": [
       "<matplotlib.figure.Figure at 0x11c792650>"
      ]
     },
     "metadata": {},
     "output_type": "display_data"
    }
   ],
   "source": [
    "math_oc_common = freq['math.OC'].most_common(200)\n",
    "math_ct_common = freq['math.CT'].most_common(200)\n",
    "mtk = [i[0] for i in math_oc_common]\n",
    "mtkth = [i[0] for i in math_ct_common]\n",
    "pos_dist(mtk)\n",
    "pos_dist(mtkth)\n",
    "moc = [i[1] for i in math_oc_common]\n",
    "mct = [i[1] for i in math_ct_common]\n",
    "\n",
    "plt.plot(np.arange(0, len(mtk)), moc, color='blue', label='math.OC')\n",
    "plt.plot(np.arange(0, len(mtk)), mct, color='red', label='math.CT')\n",
    "plt.legend(loc='upper right')\n",
    "\n",
    "plt.savefig('math.png')"
   ]
  },
  {
   "cell_type": "code",
   "execution_count": null,
   "metadata": {
    "collapsed": true
   },
   "outputs": [],
   "source": []
  }
 ],
 "metadata": {
  "kernelspec": {
   "display_name": "Python 2",
   "language": "python",
   "name": "python2"
  },
  "language_info": {
   "codemirror_mode": {
    "name": "ipython",
    "version": 2
   },
   "file_extension": ".py",
   "mimetype": "text/x-python",
   "name": "python",
   "nbconvert_exporter": "python",
   "pygments_lexer": "ipython2",
   "version": "2.7.10"
  }
 },
 "nbformat": 4,
 "nbformat_minor": 0
}
